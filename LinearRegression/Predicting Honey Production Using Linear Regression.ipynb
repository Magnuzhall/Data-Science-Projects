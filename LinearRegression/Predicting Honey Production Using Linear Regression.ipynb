{
 "cells": [
  {
   "cell_type": "markdown",
   "metadata": {},
   "source": [
    "###Welcome \n",
    "\n",
    "In this project we will be predicting honey production using a linear regression model\n",
    "\n",
    "We will use a dataset from Kaggle seen in the data science career path on Codecademy, the dataset contains honey production in the United States from 1998 until 2012"
   ]
  },
  {
   "cell_type": "code",
   "execution_count": 37,
   "metadata": {},
   "outputs": [],
   "source": [
    "#Let's import the libraries we will be using for our analysis\n",
    "\n",
    "import pandas as pd\n",
    "import matplotlib.pyplot as plt\n",
    "from sklearn import linear_model\n",
    "import numpy as np"
   ]
  },
  {
   "cell_type": "code",
   "execution_count": 38,
   "metadata": {},
   "outputs": [],
   "source": [
    "#First we read in the dataset\n",
    "df = pd.read_csv(\"https://s3.amazonaws.com/codecademy-content/programs/data-science-path/linear_regression/honeyproduction.csv\")"
   ]
  },
  {
   "cell_type": "code",
   "execution_count": 39,
   "metadata": {},
   "outputs": [
    {
     "name": "stdout",
     "output_type": "stream",
     "text": [
      "  state    numcol  yieldpercol   totalprod      stocks  priceperlb  \\\n",
      "0    AL   16000.0           71   1136000.0    159000.0        0.72   \n",
      "1    AZ   55000.0           60   3300000.0   1485000.0        0.64   \n",
      "2    AR   53000.0           65   3445000.0   1688000.0        0.59   \n",
      "3    CA  450000.0           83  37350000.0  12326000.0        0.62   \n",
      "4    CO   27000.0           72   1944000.0   1594000.0        0.70   \n",
      "5    FL  230000.0           98  22540000.0   4508000.0        0.64   \n",
      "6    GA   75000.0           56   4200000.0    307000.0        0.69   \n",
      "7    HI    8000.0          118    944000.0     66000.0        0.77   \n",
      "8    ID  120000.0           50   6000000.0   2220000.0        0.65   \n",
      "9    IL    9000.0           71    639000.0    204000.0        1.19   \n",
      "\n",
      "    prodvalue  year  \n",
      "0    818000.0  1998  \n",
      "1   2112000.0  1998  \n",
      "2   2033000.0  1998  \n",
      "3  23157000.0  1998  \n",
      "4   1361000.0  1998  \n",
      "5  14426000.0  1998  \n",
      "6   2898000.0  1998  \n",
      "7    727000.0  1998  \n",
      "8   3900000.0  1998  \n",
      "9    760000.0  1998  \n"
     ]
    }
   ],
   "source": [
    "#And print the first 10 rows\n",
    "print(df.head(10))"
   ]
  },
  {
   "cell_type": "code",
   "execution_count": 40,
   "metadata": {},
   "outputs": [
    {
     "data": {
      "text/plain": [
       "state          626\n",
       "numcol         626\n",
       "yieldpercol    626\n",
       "totalprod      626\n",
       "stocks         626\n",
       "priceperlb     626\n",
       "prodvalue      626\n",
       "year           626\n",
       "dtype: int64"
      ]
     },
     "execution_count": 40,
     "metadata": {},
     "output_type": "execute_result"
    }
   ],
   "source": [
    "#We can see this is a fairly small dataset\n",
    "df.count()"
   ]
  },
  {
   "cell_type": "markdown",
   "metadata": {},
   "source": [
    "This dataset has been previously cleaned. For the purpose of this exercise we will only run a linear regression model and plot the predicted results\n",
    "\n",
    "We want 2 specific variables from the dataset, these are totalprod which contains the total honey production by state = this is our target variable. And our second variables is year, in order to predict the honey production for future years."
   ]
  },
  {
   "cell_type": "code",
   "execution_count": 41,
   "metadata": {},
   "outputs": [
    {
     "name": "stdout",
     "output_type": "stream",
     "text": [
      "    year   totalprod\n",
      "0   1998  5105093.02\n",
      "1   1999  4706674.42\n",
      "2   2000  5106000.00\n",
      "3   2001  4221545.45\n",
      "4   2002  3892386.36\n",
      "5   2003  4122090.91\n",
      "6   2004  4456804.88\n",
      "7   2005  4243146.34\n",
      "8   2006  3761902.44\n",
      "9   2007  3600512.20\n",
      "10  2008  3974926.83\n",
      "11  2009  3626700.00\n",
      "12  2010  4382350.00\n",
      "13  2011  3680025.00\n",
      "14  2012  3522675.00\n"
     ]
    }
   ],
   "source": [
    "#We select the average total producton and group it by year\n",
    "production_per_year = df.groupby('year').totalprod.mean().reset_index()\n",
    "print(production_per_year.head(15).round(2))"
   ]
  },
  {
   "cell_type": "code",
   "execution_count": 61,
   "metadata": {},
   "outputs": [
    {
     "data": {
      "image/png": "[encoded data removed]",
      "text/plain": [
       "<Figure size 432x288 with 1 Axes>"
      ]
     },
     "metadata": {
      "needs_background": "light"
     },
     "output_type": "display_data"
    }
   ],
   "source": [
    "#We now define our x and y variables to display a scatterplot\n",
    "x = production_per_year['year']\n",
    "#Note: what this does is create a column with one value per row, instead of having one row with values)\n",
    "x = x.values.reshape(-1, 1)\n",
    "y = production_per_year['totalprod']\n",
    "\n",
    "plt.scatter(x, y)\n",
    "plt.show()"
   ]
  },
  {
   "cell_type": "markdown",
   "metadata": {},
   "source": [
    "We can see that as years go by the honey production across the U.S is dramatically decreasing\n",
    "\n",
    "Let's run a linear regression model "
   ]
  },
  {
   "cell_type": "code",
   "execution_count": 62,
   "metadata": {},
   "outputs": [
    {
     "data": {
      "image/png": "[encoded data removed]",
      "text/plain": [
       "<Figure size 432x288 with 1 Axes>"
      ]
     },
     "metadata": {
      "needs_background": "light"
     },
     "output_type": "display_data"
    }
   ],
   "source": [
    "#First we call the model from the scikit learn library\n",
    "regression = linear_model.LinearRegression()\n",
    "\n",
    "#Then fit the model for our x and y variables\n",
    "regression.fit(x, y)\n",
    "\n",
    "#The prediction the model will make on the data stored on the x axis\n",
    "y_prediction = regression.predict(x)\n",
    "\n",
    "#We plot the prediction line on top of the scatter plot\n",
    "plt.plot(x, y_prediction)\n",
    "plt.scatter(x, y)\n",
    "plt.show()"
   ]
  },
  {
   "cell_type": "markdown",
   "metadata": {},
   "source": [
    "Great now let's predict the next 20 years of honey production"
   ]
  },
  {
   "cell_type": "code",
   "execution_count": 68,
   "metadata": {},
   "outputs": [],
   "source": [
    "#We create a numpy array which includes years from 2013 until 2032\n",
    "x_upcoming_years = np.array(range(2013, 2033))\n",
    "\n",
    "#Reshape our data so scikit learn can run the linear model \n",
    "x_upcoming_years = x_upcoming_years.reshape(-1, 1)"
   ]
  },
  {
   "cell_type": "code",
   "execution_count": 72,
   "metadata": {},
   "outputs": [
    {
     "data": {
      "image/png": "[encoded data removed]",
      "text/plain": [
       "<Figure size 432x288 with 1 Axes>"
      ]
     },
     "metadata": {
      "needs_background": "light"
     },
     "output_type": "display_data"
    }
   ],
   "source": [
    "#The model will now run based on our new set of values for the x axis\n",
    "production_years = regression.predict(x_upcoming_years)\n",
    "\n",
    "#Let's plot the graph\n",
    "plt.plot(x_upcoming_years, production_years)\n",
    "plt.scatter(x, y)\n",
    "plt.xlabel('Year')\n",
    "plt.ylabel('Honey Production in Pounds')\n",
    "plt.title('Future Honey Production')\n",
    "plt.show()"
   ]
  },
  {
   "cell_type": "markdown",
   "metadata": {},
   "source": [
    "Great! that ends our project \"Predicting Honey Production Using Linear Regression\"\n",
    "\n",
    "Thank you for reading"
   ]
  }
 ],
 "metadata": {
  "kernelspec": {
   "display_name": "Python 3",
   "language": "python",
   "name": "python3"
  },
  "language_info": {
   "codemirror_mode": {
    "name": "ipython",
    "version": 3
   },
   "file_extension": ".py",
   "mimetype": "text/x-python",
   "name": "python",
   "nbconvert_exporter": "python",
   "pygments_lexer": "ipython3",
   "version": "3.7.1"
  }
 },
 "nbformat": 4,
 "nbformat_minor": 2
}
