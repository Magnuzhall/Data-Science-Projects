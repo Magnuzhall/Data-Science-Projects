{
 "cells": [
  {
   "cell_type": "markdown",
   "metadata": {},
   "source": [
    "###Welcome\n",
    "\n",
    "In this project we will be using the K-Means Clustering to analyze and cluster images of handwritten digits\n",
    "\n",
    "K-Means is a fantastic Unsupervised Machine Learning algorithm which can be used for a variety of purposes from recommendation engines to image segmentation, it is used in search engines and can also be used in market segmentation amongst others\n",
    "\n",
    "In this project we will be working with a dataset inside the scikit learn library\n",
    "\n",
    "This will be a short project to get familiar with the K-Means Clustering Algorithm"
   ]
  },
  {
   "cell_type": "code",
   "execution_count": 24,
   "metadata": {},
   "outputs": [],
   "source": [
    "#Okay let's first import the libraries we will use throughout the project\n",
    "import numpy as np\n",
    "from matplotlib import pyplot as plt\n",
    "from sklearn import datasets\n",
    "from sklearn.cluster import KMeans\n",
    "\n",
    "digits = datasets.load_digits()"
   ]
  },
  {
   "cell_type": "code",
   "execution_count": 25,
   "metadata": {},
   "outputs": [
    {
     "name": "stdout",
     "output_type": "stream",
     "text": [
      ".. _digits_dataset:\n",
      "\n",
      "Optical recognition of handwritten digits dataset\n",
      "--------------------------------------------------\n",
      "\n",
      "**Data Set Characteristics:**\n",
      "\n",
      "    :Number of Instances: 5620\n",
      "    :Number of Attributes: 64\n",
      "    :Attribute Information: 8x8 image of integer pixels in the range 0..16.\n",
      "    :Missing Attribute Values: None\n",
      "    :Creator: E. Alpaydin (alpaydin '@' boun.edu.tr)\n",
      "    :Date: July; 1998\n",
      "\n",
      "This is a copy of the test set of the UCI ML hand-written digits datasets\n",
      "http://archive.ics.uci.edu/ml/datasets/Optical+Recognition+of+Handwritten+Digits\n",
      "\n",
      "The data set contains images of hand-written digits: 10 classes where\n",
      "each class refers to a digit.\n",
      "\n",
      "Preprocessing programs made available by NIST were used to extract\n",
      "normalized bitmaps of handwritten digits from a preprinted form. From a\n",
      "total of 43 people, 30 contributed to the training set and different 13\n",
      "to the test set. 32x32 bitmaps are divided into nonoverlapping blocks of\n",
      "4x4 and the number of on pixels are counted in each block. This generates\n",
      "an input matrix of 8x8 where each element is an integer in the range\n",
      "0..16. This reduces dimensionality and gives invariance to small\n",
      "distortions.\n",
      "\n",
      "For info on NIST preprocessing routines, see M. D. Garris, J. L. Blue, G.\n",
      "T. Candela, D. L. Dimmick, J. Geist, P. J. Grother, S. A. Janet, and C.\n",
      "L. Wilson, NIST Form-Based Handprint Recognition System, NISTIR 5469,\n",
      "1994.\n",
      "\n",
      ".. topic:: References\n",
      "\n",
      "  - C. Kaynak (1995) Methods of Combining Multiple Classifiers and Their\n",
      "    Applications to Handwritten Digit Recognition, MSc Thesis, Institute of\n",
      "    Graduate Studies in Science and Engineering, Bogazici University.\n",
      "  - E. Alpaydin, C. Kaynak (1998) Cascading Classifiers, Kybernetika.\n",
      "  - Ken Tang and Ponnuthurai N. Suganthan and Xi Yao and A. Kai Qin.\n",
      "    Linear dimensionalityreduction using relevance weighted LDA. School of\n",
      "    Electrical and Electronic Engineering Nanyang Technological University.\n",
      "    2005.\n",
      "  - Claudio Gentile. A New Approximate Maximal Margin Classification\n",
      "    Algorithm. NIPS. 2000.\n"
     ]
    }
   ],
   "source": [
    "#'Let's go through the dataset description\n",
    "print(digits.DESCR)"
   ]
  },
  {
   "cell_type": "code",
   "execution_count": 26,
   "metadata": {},
   "outputs": [
    {
     "name": "stdout",
     "output_type": "stream",
     "text": [
      "[[ 0.  0.  5. ...  0.  0.  0.]\n",
      " [ 0.  0.  0. ... 10.  0.  0.]\n",
      " [ 0.  0.  0. ... 16.  9.  0.]\n",
      " ...\n",
      " [ 0.  0.  1. ...  6.  0.  0.]\n",
      " [ 0.  0.  2. ... 12.  0.  0.]\n",
      " [ 0.  0. 10. ... 12.  1.  0.]]\n"
     ]
    }
   ],
   "source": [
    "#Now let's see what the data looks like\n",
    "print(digits.data)"
   ]
  },
  {
   "cell_type": "markdown",
   "metadata": {},
   "source": [
    "Each list contains 64 values, these include the pixel colours of the images from 0 being white to 16 being black"
   ]
  },
  {
   "cell_type": "code",
   "execution_count": 27,
   "metadata": {},
   "outputs": [
    {
     "name": "stdout",
     "output_type": "stream",
     "text": [
      "[0 1 2 ... 8 9 8]\n"
     ]
    }
   ],
   "source": [
    "#Now print the targets\n",
    "print(digits.target)"
   ]
  },
  {
   "cell_type": "markdown",
   "metadata": {},
   "source": [
    "Great we will now take a look at one of the images"
   ]
  },
  {
   "cell_type": "code",
   "execution_count": 12,
   "metadata": {},
   "outputs": [
    {
     "data": {
      "text/plain": [
       "<Figure size 432x288 with 0 Axes>"
      ]
     },
     "metadata": {},
     "output_type": "display_data"
    },
    {
     "data": {
      "image/png": "[encoded data removed]",
      "text/plain": [
       "<Figure size 288x288 with 1 Axes>"
      ]
     },
     "metadata": {
      "needs_background": "light"
     },
     "output_type": "display_data"
    }
   ],
   "source": [
    "plt.gray() \n",
    "#let's see image at index 50\n",
    "plt.matshow(digits.images[50])\n",
    "plt.show()"
   ]
  },
  {
   "cell_type": "code",
   "execution_count": 13,
   "metadata": {
    "scrolled": true
   },
   "outputs": [
    {
     "name": "stdout",
     "output_type": "stream",
     "text": [
      "2\n"
     ]
    }
   ],
   "source": [
    "#Seems like a 2 probably? Let's find out\n",
    "print(digits.target[50])"
   ]
  },
  {
   "cell_type": "markdown",
   "metadata": {},
   "source": [
    "Let's take a look at a couple more images"
   ]
  },
  {
   "cell_type": "code",
   "execution_count": 29,
   "metadata": {
    "scrolled": true
   },
   "outputs": [
    {
     "data": {
      "text/plain": [
       "<Figure size 432x288 with 0 Axes>"
      ]
     },
     "metadata": {},
     "output_type": "display_data"
    },
    {
     "data": {
      "image/png": "[encoded data removed]",
      "text/plain": [
       "<Figure size 288x288 with 1 Axes>"
      ]
     },
     "metadata": {
      "needs_background": "light"
     },
     "output_type": "display_data"
    },
    {
     "data": {
      "image/png": "[encoded data removed]",
      "text/plain": [
       "<Figure size 288x288 with 1 Axes>"
      ]
     },
     "metadata": {
      "needs_background": "light"
     },
     "output_type": "display_data"
    },
    {
     "name": "stdout",
     "output_type": "stream",
     "text": [
      "0\n",
      "1\n"
     ]
    }
   ],
   "source": [
    "plt.gray() \n",
    "plt.matshow(digits.images[20])\n",
    "plt.matshow(digits.images[90])\n",
    "plt.show()\n",
    "print(digits.target[20])\n",
    "print(digits.target[90])"
   ]
  },
  {
   "cell_type": "markdown",
   "metadata": {},
   "source": [
    "###We will now build the model, knowing that we have number from 0 to 9 that means we will use 10 different clusters.\n",
    "\n",
    "The random state is to ensure that the model is build the exact same way every time we run it"
   ]
  },
  {
   "cell_type": "code",
   "execution_count": 81,
   "metadata": {
    "scrolled": true
   },
   "outputs": [
    {
     "data": {
      "text/plain": [
       "KMeans(algorithm='auto', copy_x=True, init='k-means++', max_iter=300,\n",
       "    n_clusters=10, n_init=10, n_jobs=None, precompute_distances='auto',\n",
       "    random_state=42, tol=0.0001, verbose=0)"
      ]
     },
     "execution_count": 81,
     "metadata": {},
     "output_type": "execute_result"
    }
   ],
   "source": [
    "#Build the model\n",
    "model = KMeans(n_clusters=10, random_state=42)\n",
    "\n",
    "#Fit the data to the model\n",
    "model.fit(digits.data)"
   ]
  },
  {
   "cell_type": "markdown",
   "metadata": {},
   "source": []
  },
  {
   "cell_type": "markdown",
   "metadata": {},
   "source": [
    "###Okay time to visualize the centroids \n",
    "\n",
    "These are the different clusters that the model selected \n",
    "\n",
    "A point will be labeled accordingly depending on the proximity to any of these clusters, in other words if we want to know the number of any given point, that label will depend on the proximity to the nearest centroid"
   ]
  },
  {
   "cell_type": "code",
   "execution_count": 82,
   "metadata": {},
   "outputs": [
    {
     "data": {
      "image/png": "[encoded data removed]",
      "text/plain": [
       "<Figure size 576x216 with 10 Axes>"
      ]
     },
     "metadata": {
      "needs_background": "light"
     },
     "output_type": "display_data"
    }
   ],
   "source": [
    "fig = plt.figure(figsize=(8, 3))\n",
    "fig.suptitle('Cluser Center Images', fontsize=14, fontweight='bold')\n",
    "\n",
    "for i in range(10):\n",
    "  # Initialize subplots\n",
    "  ax = fig.add_subplot(2, 5, 1 + i)\n",
    "  ax.imshow(model.cluster_centers_[i].reshape((8, 8)), cmap=plt.cm.binary)\n",
    "\n",
    "plt.show()"
   ]
  },
  {
   "cell_type": "markdown",
   "metadata": {},
   "source": [
    "###Time to test our model\n",
    "\n",
    "We will feed it the data with corresponding to this set of numbers 9320 and see if it can accurately label them"
   ]
  },
  {
   "cell_type": "code",
   "execution_count": 97,
   "metadata": {},
   "outputs": [],
   "source": [
    "numbers_prediction = np.array([\n",
    "[0.00,0.00,0.29,2.12,3.27,2.95,0.08,0.00,0.00,0.83,6.68,5.92,4.62,6.23,3.80,0.00,0.00,3.04,4.78,0.00,0.00,2.36,5.64,0.00,0.00,1.59,6.78,3.34,3.04,5.16,5.41,0.00,0.00,0.00,2.19,4.48,4.56,4.93,5.48,0.00,0.00,0.00,0.00,0.00,0.00,0.91,6.32,0.00,0.00,0.00,0.00,0.00,0.00,0.15,6.85,0.00,0.00,0.00,0.00,0.00,0.00,0.00,5.02,0.00],\n",
    "[0.00,1.60,3.05,2.20,0.90,0.00,0.00,0.00,0.00,2.50,4.57,5.55,6.99,5.23,0.00,0.00,0.00,0.00,0.00,0.00,0.22,6.76,0.99,0.00,0.00,0.00,0.00,2.56,5.90,7.13,0.76,0.00,0.00,0.00,0.00,5.08,5.32,6.91,2.20,0.00,0.00,0.00,0.00,0.00,0.44,4.56,3.81,0.00,0.00,6.16,6.84,7.06,7.44,5.92,1.14,0.00,0.00,1.20,0.75,0.75,0.00,0.00,0.00,0.00],\n",
    "[0.00,0.45,1.44,0.82,0.00,0.00,0.00,0.00,2.42,7.37,6.31,7.14,3.10,0.00,0.00,0.00,0.15,0.30,0.00,1.29,6.78,0.00,0.00,0.00,0.00,0.00,0.00,1.21,6.70,0.00,0.00,0.00,0.00,0.00,0.45,6.09,3.27,0.00,0.00,0.00,0.00,1.28,6.53,4.86,1.44,1.51,1.52,0.22,0.00,6.37,7.00,6.84,6.38,6.07,6.08,1.60,0.00,0.00,0.00,0.00,0.00,0.00,0.00,0.00],\n",
    "[0.00,0.00,2.57,5.46,6.00,3.33,0.00,0.00,0.23,5.54,6.37,2.79,2.03,6.70,1.90,0.00,3.34,5.24,0.07,0.00,0.00,2.81,5.33,0.00,3.81,3.19,0.00,0.00,0.00,0.53,6.85,0.00,3.12,4.71,0.00,0.00,0.00,0.30,6.85,0.00,0.68,6.84,3.80,0.07,1.35,4.92,5.33,0.00,0.00,0.60,5.85,7.07,7.14,4.77,0.60,0.00,0.00,0.00,0.07,1.13,0.30,0.00,0.00,0.00]\n",
    "])"
   ]
  },
  {
   "cell_type": "markdown",
   "metadata": {},
   "source": [
    "We will now predict the labels \n",
    "\n",
    "The for loop is to map out the labels with the correct digits they represent"
   ]
  },
  {
   "cell_type": "code",
   "execution_count": 98,
   "metadata": {},
   "outputs": [
    {
     "name": "stdout",
     "output_type": "stream",
     "text": [
      "9320"
     ]
    }
   ],
   "source": [
    "numbers_prediction = model.predict(numbers_prediction)\n",
    "\n",
    "for i in range(len(numbers_prediction)):\n",
    "  if numbers_prediction[i] == 0:\n",
    "    print(0, end='')\n",
    "  elif numbers_prediction[i] == 1:\n",
    "    print(9, end='')\n",
    "  elif numbers_prediction[i] == 2:\n",
    "    print(2, end='')\n",
    "  elif numbers_prediction[i] == 3:\n",
    "    print(1, end='')\n",
    "  elif numbers_prediction[i] == 4:\n",
    "    print(6, end='')\n",
    "  elif numbers_prediction[i] == 5:\n",
    "    print(8, end='')\n",
    "  elif numbers_prediction[i] == 6:\n",
    "    print(4, end='')\n",
    "  elif numbers_prediction[i] == 7:\n",
    "    print(5, end='')\n",
    "  elif numbers_prediction[i] == 8:\n",
    "    print(7, end='')\n",
    "  elif numbers_prediction[i] == 9:\n",
    "    print(3, end='')"
   ]
  },
  {
   "cell_type": "markdown",
   "metadata": {},
   "source": [
    "###Fantastic! our model labeled the digits perfectly\n",
    "\n",
    "This will not always be the case due to the size of the dataset that we used, in fact most of the time the model will get it wrong with 1-2 numbers. In order to increase the accuracy of the model we would need a much bigger dataset\n",
    "\n",
    "That's it for this project\n",
    "\n",
    "Thank you for reading"
   ]
  }
 ],
 "metadata": {
  "kernelspec": {
   "display_name": "Python 3",
   "language": "python",
   "name": "python3"
  },
  "language_info": {
   "codemirror_mode": {
    "name": "ipython",
    "version": 3
   },
   "file_extension": ".py",
   "mimetype": "text/x-python",
   "name": "python",
   "nbconvert_exporter": "python",
   "pygments_lexer": "ipython3",
   "version": "3.7.1"
  }
 },
 "nbformat": 4,
 "nbformat_minor": 2
}
